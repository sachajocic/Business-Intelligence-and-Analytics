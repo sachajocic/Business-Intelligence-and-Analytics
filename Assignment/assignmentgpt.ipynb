{
  "cells": [
    {
      "cell_type": "markdown",
      "metadata": {
        "id": "-adY0HSr94lO"
      },
      "source": [
        "<a href=\"https://colab.research.google.com/github/michalis0/Business-Intelligence-and-Analytics/blob/master/Assignment/assignment.ipynb\" target=\"_parent\"><img src=\"https://colab.research.google.com/assets/colab-badge.svg\" alt=\"Open In Colab\"/></a>"
      ]
    },
    {
      "cell_type": "code",
      "execution_count": null,
      "metadata": {
        "id": "rGZ6kbilZZYM",
        "outputId": "0f70e0d3-16c5-437a-dd53-fedea6ed44f9"
      },
      "outputs": [
        {
          "name": "stderr",
          "output_type": "stream",
          "text": [
            "/home/syrine/Anaconda3/lib/python3.11/site-packages/pandas/core/arrays/masked.py:60: UserWarning: Pandas requires version '1.3.6' or newer of 'bottleneck' (version '1.3.5' currently installed).\n",
            "  from pandas.core import (\n"
          ]
        }
      ],
      "source": [
        "import pandas as pd\n",
        "import numpy as np\n",
        "import warnings\n",
        "import matplotlib.pyplot as plt\n",
        "import seaborn as sns\n",
        "import plotly as py\n",
        "import plotly.graph_objs as go\n",
        "import statistics\n",
        "\n",
        "from sklearn.model_selection import train_test_split, GridSearchCV\n",
        "from sklearn.linear_model import LinearRegression, LogisticRegression, LogisticRegressionCV\n",
        "from sklearn.metrics import mean_absolute_error, mean_squared_error, r2_score, recall_score, precision_score\n",
        "from sklearn.preprocessing import OneHotEncoder, LabelEncoder, MinMaxScaler, StandardScaler, PolynomialFeatures\n",
        "from sklearn.neighbors import KNeighborsClassifier\n",
        "from sklearn.tree import DecisionTreeClassifier\n",
        "from sklearn.cluster import KMeans, AgglomerativeClustering\n",
        "from scipy.cluster.hierarchy import dendrogram, linkage\n",
        "\n",
        "from mlxtend.frequent_patterns import apriori\n",
        "from mlxtend.frequent_patterns import association_rules\n",
        "\n",
        "warnings.filterwarnings('ignore')\n",
        "%matplotlib inline"
      ]
    },
    {
      "cell_type": "markdown",
      "metadata": {
        "id": "LYGuKo04mVkr"
      },
      "source": [
        "<div>\n",
        "<td>\n",
        "<img src=\"https://upload.wikimedia.org/wikipedia/commons/thumb/2/2b/Logo_Universit%C3%A9_de_Lausanne.svg/2000px-Logo_Universit%C3%A9_de_Lausanne.svg.png\" style=\"padding-right:10px;width:240px;float:left\"/></td>\n",
        "<h2 style=\"white-space: nowrap\">Business Intelligence and Analytics Personal Assignment</h2></td>\n",
        "<hr style=\"clear:both\">\n",
        "<p style=\"font-size:0.85em; margin:2px; text-align:justify\">\n",
        "\n",
        "</div>"
      ]
    },
    {
      "cell_type": "markdown",
      "metadata": {
        "id": "wcSQ4nreg3ed"
      },
      "source": [
        "# IMPORTANT\n",
        "\n",
        "Question 1: Before starting this assignment, please indicate whether this course is worth 4.5 or 6 credits to you. Please answer truthfully, as checks will be made afterwards. This question is only intended to facilitate the calculation of final points.\n",
        "\n",
        "> TODO: Your answer here"
      ]
    },
    {
      "cell_type": "markdown",
      "metadata": {
        "id": "ZLO9775Ol1KD"
      },
      "source": [
        "# Part 1: Climate Analytics - Rice vs Wheat in a Changing World\n",
        "\n",
        "## Context\n",
        "\n",
        "You work as a junior data analyst at SerriFleur, an international NGO focused on sustainable agriculture in the face of climate change. Your team is investigating how climate conditions and farming practices affect the yields of rice and wheat — two of the most critical staple crops globally.\n",
        "\n",
        "You’ve just received a massive dataset from the research division: \"Hydroponix.csv\". Your task is to extract insights, build models, and tell a compelling story from the data. You can find the dataset here: https://media.githubusercontent.com/media/michalis0/Business-Intelligence-and-Analytics/refs/heads/master/data/Hydroponix.csv"
      ]
    },
    {
      "cell_type": "markdown",
      "metadata": {
        "id": "dPZrAcSrv32W"
      },
      "source": [
        "Columns Overview:\n",
        "\n",
        "* `Year` : Year of the observation.\n",
        "\n",
        "* `Country` : Country where the data was collected.\n",
        "\n",
        "* `Region` : Specific region within the country.\n",
        "\n",
        "* `Crop_Type` : Type of agricultural crop observed.\n",
        "\n",
        "* `Average_Temperature` : Annual average temperature in degrees Celsius.\n",
        "\n",
        "* `Total_Precipitation` : Total annual precipitation in millimeters.\n",
        "\n",
        "* `CO2_Emissions` : CO₂ emissions in million tons.\n",
        "\n",
        "* `Crop_Yield` : Agricultural yield in tons per hectare.\n",
        "\n",
        "* `Extreme_Weather_Events` : Number of recorded extreme weather events.\n",
        "\n",
        "* `Irrigation_Access` : Percentage of cultivated land with access to irrigation.\n",
        "\n",
        "* `Pesticide_Use` : Pesticide use in kilograms per hectare.\n",
        "\n",
        "* `Fertilizer_Use` : Fertilizer use in kilograms per hectare.\n",
        "\n",
        "* `Soil_Health_Index` : Soil quality index (out of 100).\n",
        "\n",
        "* `Economic_Impact` : Economic impact in million USD."
      ]
    },
    {
      "cell_type": "code",
      "execution_count": null,
      "metadata": {
        "id": "d9GkXOmNolo7"
      },
      "outputs": [],
      "source": [
        "data_climate = # TODO: Your code here"
      ]
    },
    {
      "cell_type": "markdown",
      "metadata": {
        "id": "u0ZZWo8XoFb7"
      },
      "source": [
        "## Exercise 1: Data Cleaning & Preprocessing\n",
        "\n"
      ]
    },
    {
      "cell_type": "markdown",
      "metadata": {
        "id": "8OWAKvtFoVnx"
      },
      "source": [
        "The dataset you’ve received contains data from multiple countries, various crops, and inconsistent formatting. Your first job is to narrow the scope of your study and prepare a clean dataset that’s ready for analysis.\n",
        "\n",
        "Your mission:\n",
        "\n",
        "*   Filter the dataset to focus only on rice and wheat\n",
        "*   Drop the regional identifiers column\n",
        "*   Group the data by Country, Year and Crop_type but don't put them as index (*Hint: specific parameter of `groupby`*) and calculate the mean of each column\n",
        "*   Change the type of the columns `Country` and `Crop_type`\n"
      ]
    },
    {
      "cell_type": "code",
      "execution_count": null,
      "metadata": {
        "id": "P4xZA6U-ldyI"
      },
      "outputs": [],
      "source": [
        "# Question 2: Find the list of crop types produced by SerriFleur\n",
        "\n",
        "# TODO: Your code here"
      ]
    },
    {
      "cell_type": "code",
      "execution_count": null,
      "metadata": {
        "id": "7qhsCq5uG4Jo"
      },
      "outputs": [],
      "source": [
        "# Data cleaning\n",
        "\n",
        "# TODO: Your code here"
      ]
    },
    {
      "cell_type": "code",
      "execution_count": null,
      "metadata": {
        "id": "A_x2lAOjbKyT"
      },
      "outputs": [],
      "source": [
        "# Question 3: Find the total number of countries where Serrifleur operates in\n",
        "\n",
        "# TODO: Your code here"
      ]
    },
    {
      "cell_type": "markdown",
      "metadata": {
        "id": "-RjlKX5qnx_T"
      },
      "source": [
        "**Note on Climate Variables per Crop**:\n",
        "\n",
        "> You may notice that climate-related variables such as average temperature and total precipitation vary across different crops, even for the same country and year. This is because each crop is typically grown in different regions within a country, depending on factors like soil conditions, irrigation availability, and climatic suitability. For example, wheat might be cultivated in cooler northern regions while corn is grown in warmer southern areas. Therefore, the recorded climate data reflects regional conditions specific to where each crop is grown, rather than national averages. This is an important consideration when interpreting the results of this analysis."
      ]
    },
    {
      "cell_type": "markdown",
      "metadata": {
        "id": "T1uuTvNrxs7j"
      },
      "source": [
        "## Exercise 2: Exploratory Data Analysis"
      ]
    },
    {
      "cell_type": "markdown",
      "metadata": {
        "id": "79-w6Jfjx2rO"
      },
      "source": [
        "Before diving into modeling, your supervisor wants a clear picture of the current state of affairs in South America. You’re tasked with visualizing total precipitation level, economic impacts and soil health.\n",
        "\n",
        "Your mission:\n",
        "\n",
        "\n",
        "*   Plot total precipitation evolution over the years for each crop in Argentina\n",
        "*   Create a pie chart that shows the percentage share of the total economic impact for each crop in Brazil\n",
        "*   Create boxplots comparing soil health across crops and all the countries\n"
      ]
    },
    {
      "cell_type": "code",
      "execution_count": null,
      "metadata": {
        "id": "pcwTpzwkyG24"
      },
      "outputs": [],
      "source": [
        "# Question 4: Create the graph of the total precipitation evolution over the years for each crop in Argentina\n",
        "\n",
        "# TODO: Your code here"
      ]
    },
    {
      "cell_type": "code",
      "execution_count": null,
      "metadata": {
        "id": "xrNXxOqVbu_p"
      },
      "outputs": [],
      "source": [
        "# Question 5: Create the pie chart that shows the percentage share of the totale economic impact for each crop in Brazil\n",
        "\n",
        "# TODO: Your code here"
      ]
    },
    {
      "cell_type": "code",
      "execution_count": null,
      "metadata": {
        "id": "lKQrxOLJb1ay"
      },
      "outputs": [],
      "source": [
        "# Question 6: Create the boxplots that compare the soil health index across crops and all the countries\n",
        "\n",
        "# TODO: Your code here"
      ]
    },
    {
      "cell_type": "markdown",
      "metadata": {
        "id": "DER8gy_4-BTE"
      },
      "source": [
        "## Exercise 3: Clustering"
      ]
    },
    {
      "cell_type": "markdown",
      "metadata": {
        "id": "GrvsCgCH-MLS"
      },
      "source": [
        "SerriFleur aims to classify countries based on their farming practices in order to provide region-specific recommendations. You propose using unsupervised learning to identify distinct fertilizer usage profiles.\n",
        "\n",
        "Your mission:\n",
        "\n",
        "\n",
        "\n",
        "*   For each crop type, use agglomerative clustering on fertilizer usage with 4 clusters, euclidian distance metric and ward linkage\n",
        "*   Analyze whether wheat and rice follow similar cluster pattern\n",
        "*   Plot the dendrogram representation of fertilizer usage, for each crop type, with euclidian distance metric and average linkage\n"
      ]
    },
    {
      "cell_type": "code",
      "execution_count": null,
      "metadata": {
        "id": "dZc_M75iGq_6"
      },
      "outputs": [],
      "source": [
        "# Agglomerative Clustering for Wheat\n",
        "# Question 7: Find the number of values in each clustering label\n",
        "\n",
        "# TODO: Your code here"
      ]
    },
    {
      "cell_type": "code",
      "execution_count": null,
      "metadata": {
        "id": "7poRM7IRcTQs"
      },
      "outputs": [],
      "source": [
        "# Agglomerative Clustering for Rice\n",
        "# Question 7: Find the number of values in each clustering label\n",
        "\n",
        "# TODO: Your code here"
      ]
    },
    {
      "cell_type": "code",
      "execution_count": null,
      "metadata": {
        "id": "IBEACtFHc4Qn"
      },
      "outputs": [],
      "source": [
        "# Question 8: Hierarchical Clustering for Wheat\n",
        "# Don't forget to reshape the values with numpy\n",
        "\n",
        "# TODO: Your code here"
      ]
    },
    {
      "cell_type": "code",
      "execution_count": null,
      "metadata": {
        "id": "4q5FZoOxc4W2"
      },
      "outputs": [],
      "source": [
        "# Question 8: Hierarchical Clustering for Rice\n",
        "# Don't forget to reshape the values with numpy\n",
        "\n",
        "# TODO: Your code here"
      ]
    },
    {
      "cell_type": "markdown",
      "metadata": {
        "id": "NQibWBMzFeEF"
      },
      "source": [
        "## Exercise 4: Simple Linear Regression"
      ]
    },
    {
      "cell_type": "markdown",
      "metadata": {
        "id": "rczsQUbZF7B0"
      },
      "source": [
        "A policymaker asks a simple question: \"Does CO₂ have a measurable impact on crop yield for wheat and rice ?\"\n",
        "You decide to test this using a basic regression model.\n",
        "\n",
        "Your mission:\n",
        "\n",
        "*   Plot the heatmap of correlations for numeric columns only.\n",
        "*   Model Crop_Yield as a function of CO2_Emissions (with `test_size = 0.3`, `random_state = 123` and `shuffle=True`).\n",
        "*   Use MinMaxScaler and find the $R^2$, the MSE and the MAE.\n",
        "\n",
        "\n",
        "\n",
        "\n"
      ]
    },
    {
      "cell_type": "code",
      "execution_count": null,
      "metadata": {
        "id": "iGG4PSFS4IR7"
      },
      "outputs": [],
      "source": [
        "# Question 9: Plot heatmap of correlations\n",
        "\n",
        "# TODO: Your code here"
      ]
    },
    {
      "cell_type": "code",
      "execution_count": null,
      "metadata": {
        "id": "_q_obBNVBWkU"
      },
      "outputs": [],
      "source": [
        "# Seperate features and labels\n",
        "\n",
        "# TODO: Your code here"
      ]
    },
    {
      "cell_type": "code",
      "execution_count": null,
      "metadata": {
        "id": "LcN1pFtABWm9"
      },
      "outputs": [],
      "source": [
        "# Split data into train and test sets\n",
        "\n",
        "# TODO: Your code here"
      ]
    },
    {
      "cell_type": "code",
      "execution_count": null,
      "metadata": {
        "id": "jTRoLaGGBWqB"
      },
      "outputs": [],
      "source": [
        "# Scale the data\n",
        "\n",
        "# TODO: Your code here"
      ]
    },
    {
      "cell_type": "code",
      "execution_count": null,
      "metadata": {
        "id": "xeZuEedGBWsu"
      },
      "outputs": [],
      "source": [
        "# Create linear regression model and fit into the training data\n",
        "\n",
        "# TODO: Your code here"
      ]
    },
    {
      "cell_type": "code",
      "execution_count": null,
      "metadata": {
        "id": "nRng8tlLLXX_"
      },
      "outputs": [],
      "source": [
        "# Question 10: Print out the R2, MSE and MAE score\n",
        "\n",
        "# TODO: Your code here"
      ]
    },
    {
      "cell_type": "markdown",
      "metadata": {
        "id": "MPJQWRrGLo4-"
      },
      "source": [
        "## Exercise 5: Multivariate Regression with Categorical Variables"
      ]
    },
    {
      "cell_type": "markdown",
      "metadata": {
        "id": "ZD3XdUftLt7F"
      },
      "source": [
        "Real-life relationships are rarely one-dimensional. You now create a new model to include all the other variables of the dataset, some of which are key climate factors.\n",
        "\n",
        "Your mission:\n",
        "\n",
        "\n",
        "*   Transform the column `Crop_Type` using `LabelEncoder`function and the column `Country` using `One-Hot` encoding\n",
        "*   Build a multivariate regression model using all the variables to predict crop yield  (with `test_size = 0.3`, `random_state = 123` and `shuffle=True`)\n",
        "*   Compare its performance with the previous model of part 4\n",
        "\n"
      ]
    },
    {
      "cell_type": "code",
      "execution_count": null,
      "metadata": {
        "id": "E8rTI6rvMGBq"
      },
      "outputs": [],
      "source": [
        "# Seperate features and labels, and transform the columns Crop_Type and Country (don't forget to delete the old columns)\n",
        "\n",
        "# TODO: Your code here"
      ]
    },
    {
      "cell_type": "code",
      "execution_count": null,
      "metadata": {
        "id": "J2XSlS8Negj1"
      },
      "outputs": [],
      "source": [
        "# Split data into train and test sets, create linear regression model and fit into the training data\n",
        "\n",
        "# TODO: Your code here"
      ]
    },
    {
      "cell_type": "code",
      "execution_count": null,
      "metadata": {
        "id": "p2HkVEyQetPm"
      },
      "outputs": [],
      "source": [
        "# Question 11: Print out the R2, MSE and MAE score\n",
        "\n",
        "# TODO: Your code here"
      ]
    },
    {
      "cell_type": "markdown",
      "metadata": {
        "id": "zoHDJMbEuj5K"
      },
      "source": [
        "# Part 2: Association Rules - Turn movies ratings into bussiness insights!\n",
        "\n",
        "Lights, Camera, Data!\n",
        "\n",
        "Are you a movie fan? I bet you are! Have you ever wondered how streaming platforms like Netflix seem to know exactly which movie you'll love next? You might have heard that they use recommendation algorithms and wondered how they work.\n",
        "\n",
        "In this assignment, you'll explore how **association rules** can be used to develop a simple recommendation algorithm. The idea is simple: by analyzing which movies are frequently watched together, we can uncover patterns and use these insights to suggest movies based on a user's viewing history.\n",
        "\n",
        "Now, let's dive in and make it happen!"
      ]
    },
    {
      "cell_type": "markdown",
      "metadata": {
        "id": "0-bCiqhv0fvp"
      },
      "source": [
        "## Exercise 1: Data Processing\n",
        "\n",
        "We will use a subset of MoviesLens dataset, which consists of user ratings for a list of movies and information about the movies themselves (i.e., title and genres).\n",
        "\n",
        "First, you need to load the ratings data from the URL below, and try to print out the size of the dataset, the number of users who provided ratings, and the number of movies that have been rated.\n",
        "\n",
        "URL = \"https://media.githubusercontent.com/media/michalis0/Business-Intelligence-and-Analytics/refs/heads/master/data/ml/ratings.csv\"\n",
        "\n",
        "The `ratings` dataset contains four columns:\n",
        "\n",
        "- `userID`: The ID of the user.\n",
        "- `movieID`: The ID of the movie being rated.\n",
        "- `rating`: The rating given by the user for the corresponding movie.\n",
        "- `timestamp`: The timestamp when the rating was recorded."
      ]
    },
    {
      "cell_type": "code",
      "execution_count": null,
      "metadata": {
        "id": "CftwBlXA0ppv"
      },
      "outputs": [],
      "source": [
        "df_ratings = # TODO: Your code here"
      ]
    },
    {
      "cell_type": "code",
      "execution_count": null,
      "metadata": {
        "id": "QmGTFRzN1-5p"
      },
      "outputs": [],
      "source": [
        "# Print the first 5 rows of the dataframe\n",
        "\n",
        "# TODO: Your code here"
      ]
    },
    {
      "cell_type": "code",
      "execution_count": null,
      "metadata": {
        "id": "rU7XXvHV2hmc"
      },
      "outputs": [],
      "source": [
        "# Print the shape of the dataframe\n",
        "\n",
        "# TODO: Your code here"
      ]
    },
    {
      "cell_type": "code",
      "execution_count": null,
      "metadata": {
        "id": "DMzAtZaclexT"
      },
      "outputs": [],
      "source": [
        "# Print the number of ratings available\n",
        "\n",
        "# TODO: Your code here"
      ]
    },
    {
      "cell_type": "code",
      "execution_count": null,
      "metadata": {
        "id": "_9AYnki-2jlw"
      },
      "outputs": [],
      "source": [
        "# Print the number of users who provided ratings\n",
        "\n",
        "# TODO: Your code here"
      ]
    },
    {
      "cell_type": "code",
      "execution_count": null,
      "metadata": {
        "id": "8QVOte9v20ih"
      },
      "outputs": [],
      "source": [
        "# Print the number of movies have been rated\n",
        "\n",
        "# TODO: Your code here"
      ]
    },
    {
      "cell_type": "markdown",
      "metadata": {
        "id": "dso5zAr22_Tv"
      },
      "source": [
        "[texte du lien](https://)Now, we need to transform the dataset into a matrix of size `n_users` × `n_movies`, where each row represents a user's ratings for all movies. If a user has not rated a movie, the rating will be 0.\n",
        "\n",
        "To create this matrix, we will use the `pivot` function from pandas."
      ]
    },
    {
      "cell_type": "code",
      "execution_count": null,
      "metadata": {
        "id": "Ro1m0SFh3qd9"
      },
      "outputs": [],
      "source": [
        "df_ratings_pivot = df_ratings.pivot(index='userId', columns='movieId', values='rating')\n",
        "df_ratings_pivot.head()"
      ]
    },
    {
      "cell_type": "markdown",
      "metadata": {
        "id": "mBOdgXSs31tQ"
      },
      "source": [
        "You can see that there are a lot of NaN values because each user rates only a subset of movies (those they have watched). We need to fill these NaN values with 0s."
      ]
    },
    {
      "cell_type": "code",
      "execution_count": null,
      "metadata": {
        "id": "VrY5mpFa31IF"
      },
      "outputs": [],
      "source": [
        "# Replace NaN values with 0\n",
        "df_ratings_pivot.fillna(0, inplace=True)\n",
        "df_ratings_pivot.head()"
      ]
    },
    {
      "cell_type": "markdown",
      "metadata": {
        "id": "UVftYrr84REC"
      },
      "source": [
        "Next, we don’t just want to identify movies that are frequently watched together—we want to focus on the ones that people actually enjoy. To do this, we'll consider a rating of 3 or higher as an indicator that a viewer liked the movie.\n",
        "\n",
        "Therefore, we need to map ratings ≥ 3 to `True` (liked) and ratings below 3 to `False` (not liked)."
      ]
    },
    {
      "cell_type": "code",
      "execution_count": null,
      "metadata": {
        "id": "cfa6Y98p4Q1R"
      },
      "outputs": [],
      "source": [
        "df_ratings_pivot = df_ratings_pivot.map(lambda x: True if x >= 3 else False)\n",
        "df_ratings_pivot.head()"
      ]
    },
    {
      "cell_type": "markdown",
      "metadata": {
        "id": "MLBs1CBq5Fqq"
      },
      "source": [
        "Now, we are ready to apply the association rules!!"
      ]
    },
    {
      "cell_type": "markdown",
      "metadata": {
        "id": "JOE7lwgH5K29"
      },
      "source": [
        "## Exercise 2: Association Rules\n",
        "\n"
      ]
    },
    {
      "cell_type": "markdown",
      "metadata": {
        "id": "KfxMhg1W5SbG"
      },
      "source": [
        "We will apply the **Apriori algorithm** to identify interesting association rules.\n",
        "\n",
        "First, we need to find the frequent itemsets using the following configurations:\n",
        "\n",
        "`min_support = 0.1`\n",
        "`max_len = 2`"
      ]
    },
    {
      "cell_type": "code",
      "execution_count": null,
      "metadata": {
        "id": "ICFUSwuL5O5r"
      },
      "outputs": [],
      "source": [
        "# Find the frequent itemsets\n",
        "\n",
        "# TODO: Your code here"
      ]
    },
    {
      "cell_type": "code",
      "execution_count": null,
      "metadata": {
        "id": "B9bM-Qy5vU24"
      },
      "outputs": [],
      "source": [
        "# Question 12: Find the number of itemsets\n",
        "\n",
        "# TODO: Your code here"
      ]
    },
    {
      "cell_type": "markdown",
      "metadata": {
        "id": "lDeuwi29DVp5"
      },
      "source": [
        "Now, we will mine the association rules from the frequent itemsets found above using `metric='lift'` and `min_threshold=1`."
      ]
    },
    {
      "cell_type": "code",
      "execution_count": null,
      "metadata": {
        "id": "BpTutS_y5snY"
      },
      "outputs": [],
      "source": [
        "# Find association rules\n",
        "\n",
        "# TODO: Your code here"
      ]
    },
    {
      "cell_type": "markdown",
      "metadata": {
        "id": "1WI45Ixu5ulJ"
      },
      "source": [
        "Now, let's map the movie IDs with their titles so we can identify them.\n",
        "\n",
        "First, let's load the `movies` dataset from this URL: \"https://media.githubusercontent.com/media/michalis0/Business-Intelligence-and-Analytics/refs/heads/master/data/ml/ratings.csv\"\n",
        "\n",
        "You will see that the `movies` dataset has 3 columns:\n",
        "- `movieID`: The ID of the movie.\n",
        "- `title`: The title of the movie.\n",
        "- `genres`: The genres of the movie."
      ]
    },
    {
      "cell_type": "code",
      "execution_count": null,
      "metadata": {
        "id": "2-Twult_53le"
      },
      "outputs": [],
      "source": [
        "df_movies = pd.read_csv(\"https://media.githubusercontent.com/media/michalis0/Business-Intelligence-and-Analytics/refs/heads/master/data/ml/movies.csv\")\n",
        "df_movies.head()"
      ]
    },
    {
      "cell_type": "markdown",
      "metadata": {
        "id": "ex2GS92bxuuO"
      },
      "source": [
        "In the following cell, we provide the code to map movie IDs with their titles. We assume that you are using the variable `rules` to store the association rules. If you used a different variable name, please update the code accordingly."
      ]
    },
    {
      "cell_type": "code",
      "execution_count": null,
      "metadata": {
        "id": "R2udb46m5_Ew"
      },
      "outputs": [],
      "source": [
        "def get_movie_name(movie_id):\n",
        "    return df_movies[df_movies['movieId'] == movie_id]['title'].values[0]"
      ]
    },
    {
      "cell_type": "code",
      "execution_count": null,
      "metadata": {
        "id": "Fhrp7hCK575C"
      },
      "outputs": [],
      "source": [
        "# Map antecedents and consequents with movie names\n",
        "rules['antecedents'] = rules['antecedents'].apply(lambda x: get_movie_name(list(x)[0]))\n",
        "rules['consequents'] = rules['consequents'].apply(lambda x: get_movie_name(list(x)[0]))\n",
        "rules.head()"
      ]
    },
    {
      "cell_type": "markdown",
      "metadata": {
        "id": "z7TzzpnwzmVX"
      },
      "source": [
        "Now, we are ready to find out the most interesting association rules (i.e a pair of movies that are watched together) in term of the `lift` metric"
      ]
    },
    {
      "cell_type": "code",
      "execution_count": null,
      "metadata": {
        "id": "_1gyrL9T6BSl"
      },
      "outputs": [],
      "source": [
        "# Question 13: Find the most interesting rule\n",
        "\n",
        "# TODO: Your code here"
      ]
    },
    {
      "cell_type": "code",
      "execution_count": null,
      "metadata": {
        "id": "ZrLc1z998OhB"
      },
      "outputs": [],
      "source": [
        "# Question 14: Find the movie that is the most frequently watched together with \"Beauty and the beast (1991)\"\n",
        "\n",
        "# TODO: Your code here"
      ]
    },
    {
      "cell_type": "markdown",
      "metadata": {
        "id": "VZBY_arrLcWk"
      },
      "source": [
        "# Part 3: Binary Classification"
      ]
    },
    {
      "cell_type": "markdown",
      "metadata": {
        "id": "fkPr8HtvZZYN"
      },
      "source": [
        "You are working at a leading Tour & Travel Company, and there’s trouble on the horizon — some customers are slipping away, never to book again! Your job is to predict which customers are at risk of churning and help the company keep them engaged.\n",
        "\n",
        "Using historical customer data, you’ll use binary classification algorithms to identify potential churners before they disappear.\n",
        "\n",
        "First, you need to load the dataset from this URL: \"https://media.githubusercontent.com/media/michalis0/Business-Intelligence-and-Analytics/refs/heads/master/data/travel.csv\"\n",
        "\n",
        "The dataset consists of following columns:\n",
        "- `Age`: Age of customer.\n",
        "- `FrequentFlyer`: Whether the customer takes frequent flights.\n",
        "- `AnnualIncomeClass`: Class of the customer's annual income.\n",
        "- `ServicesOpted`: Number of times services opted during recent years.\n",
        "- `AccountSyncedToSocialMedia`: Whether company account of the user is synchronised to their social media.\n",
        "- `BookedHotelOrNot`: Whether the customer books hotels using company services.\n",
        "- `Target`: Whether the customer is a churner (1 for yes, 0 for no).\n",
        "\n",
        "Try to print out the number of samples available in the dataset and types of each columns."
      ]
    },
    {
      "cell_type": "code",
      "execution_count": null,
      "metadata": {
        "id": "JAx4x_uEZZYP"
      },
      "outputs": [],
      "source": [
        "df_travel = # TODO: Your code here"
      ]
    },
    {
      "cell_type": "code",
      "execution_count": null,
      "metadata": {
        "id": "2srwkkniZZYP"
      },
      "outputs": [],
      "source": [
        "# Print the first 5 rows\n",
        "\n",
        "# TODO: Your code here"
      ]
    },
    {
      "cell_type": "code",
      "execution_count": null,
      "metadata": {
        "id": "6ddWtTexZZYP"
      },
      "outputs": [],
      "source": [
        "# Print the number of samples in the dataset\n",
        "\n",
        "# TODO: Your code here"
      ]
    },
    {
      "cell_type": "code",
      "execution_count": null,
      "metadata": {
        "id": "oeaTRGBLZZYQ"
      },
      "outputs": [],
      "source": [
        "# Print the column types\n",
        "\n",
        "# TODO: Your code here"
      ]
    },
    {
      "cell_type": "markdown",
      "metadata": {
        "id": "Yv1s78JGZZYQ"
      },
      "source": [
        "## Exercise 1: Preprocess\n"
      ]
    },
    {
      "cell_type": "markdown",
      "metadata": {
        "id": "-CWXqxFKZZYQ"
      },
      "source": [
        "First, we want to convert the columns with an object data type to\n",
        "a **categorical** one and visualize the correlation heatmap of the dataset's features."
      ]
    },
    {
      "cell_type": "code",
      "execution_count": null,
      "metadata": {
        "id": "GnwfIbXJZZYQ"
      },
      "outputs": [],
      "source": [
        "for col in df_travel.select_dtypes(include=['object']).columns:\n",
        "    df_travel[col] = pd.Categorical(df_travel[col]).codes"
      ]
    },
    {
      "cell_type": "code",
      "execution_count": null,
      "metadata": {
        "id": "cMkt1Ek2ZZYQ"
      },
      "outputs": [],
      "source": [
        "# Question 15: Plot heatmap of correlations\n",
        "\n",
        "# TODO: Your code here"
      ]
    },
    {
      "cell_type": "markdown",
      "metadata": {
        "id": "6H5CmDzvPS8r"
      },
      "source": [
        "Now, let's separate the dataset into features (X) and labels (y). Then, split the data into train and test sets using `train_test_split` function from Sklearn with `test_size=0.2`, `random_state=42`, and set `stratify=y` to preserve the label distribution in both sets."
      ]
    },
    {
      "cell_type": "code",
      "execution_count": null,
      "metadata": {
        "id": "-FyAxE8XZZYQ"
      },
      "outputs": [],
      "source": [
        "# Seperate the dataset into features and labels\n",
        "\n",
        "# TODO: Your code here"
      ]
    },
    {
      "cell_type": "code",
      "execution_count": null,
      "metadata": {
        "id": "I5odTcusZZYQ"
      },
      "outputs": [],
      "source": [
        "# Split into train and test sets\n",
        "\n",
        "# TODO: Your code here"
      ]
    },
    {
      "cell_type": "markdown",
      "metadata": {
        "id": "dEKa3hs8ZZYQ"
      },
      "source": [
        "Before building any model, it's useful to establish a simple reference point. Imagine predicting the most frequent class for every single observation—no learning, just repetition. The accuracy you'd get from that naive approach is called the baseline accuracy. It’s the minimum benchmark any meaningful model should aim to outperform."
      ]
    },
    {
      "cell_type": "code",
      "execution_count": null,
      "metadata": {
        "id": "81FKYwfGVcEi"
      },
      "outputs": [],
      "source": [
        "# Question 16: Calculate baseline accuracy\n",
        "\n",
        "# TODO: Your code here"
      ]
    },
    {
      "cell_type": "markdown",
      "metadata": {
        "id": "m_dCOOSkVlE9"
      },
      "source": [
        "Now, let's standardize the features using `StandardScaler` from Sklearn."
      ]
    },
    {
      "cell_type": "code",
      "execution_count": null,
      "metadata": {
        "id": "JsXoz_P4ZZYR"
      },
      "outputs": [],
      "source": [
        "# Standardise features\n",
        "\n",
        "# TODO: Your code here"
      ]
    },
    {
      "cell_type": "markdown",
      "metadata": {
        "id": "Dh7QqELYZZYR"
      },
      "source": [
        "## Exercise 2: Logistic regression"
      ]
    },
    {
      "cell_type": "markdown",
      "metadata": {
        "id": "ZEwks1h_WS-A"
      },
      "source": [
        "First, try use logistic regression for use our data. Use LogisticRegression with the following setting:\n",
        "`penalty='l2', solver='lbfgs', max_iter=1000, random_state=30`"
      ]
    },
    {
      "cell_type": "code",
      "execution_count": null,
      "metadata": {
        "id": "CuBxn9IqZZYR"
      },
      "outputs": [],
      "source": [
        "# Logistic Regression\n",
        "\n",
        "# TODO: Your code here"
      ]
    },
    {
      "cell_type": "code",
      "execution_count": null,
      "metadata": {
        "id": "53ODkCfEZZYR"
      },
      "outputs": [],
      "source": [
        "# Question 17: Find the test accuracy\n",
        "\n",
        "# TODO: Your code here"
      ]
    },
    {
      "cell_type": "markdown",
      "metadata": {
        "id": "eh_52S9-ZZYR"
      },
      "source": [
        "Next, train a logistic regression classifier with cross-validation. Use 5 folds and 9 values in the logscale between $10^{-4}$ and $10^4$ for the regularizer parameter. For the rest of the arguments, we use the same values as we used for the logistic regression with no cross validation.\n",
        "\n",
        "__Important:__ Set the following values for the arguments:\n",
        "`\n",
        "penalty='l2', solver='lbfgs', max_iter=1000, random_state=42, cv=4, Cs=*9*\n",
        "`"
      ]
    },
    {
      "cell_type": "code",
      "execution_count": null,
      "metadata": {
        "id": "exDVJgXpZZYR"
      },
      "outputs": [],
      "source": [
        "# Train a logistic regression classifier with cross-validation\n",
        "\n",
        "# TODO: Your code here"
      ]
    },
    {
      "cell_type": "code",
      "execution_count": null,
      "metadata": {
        "id": "RU3uVRbJZZYR"
      },
      "outputs": [],
      "source": [
        "# Question 18: Find the value of the regularization parameter and the test accuracy\n",
        "\n",
        "# TODO: Your code here"
      ]
    },
    {
      "cell_type": "markdown",
      "metadata": {
        "id": "WP8DzZbSZZYR"
      },
      "source": [
        "## Exercise 3: KNN classifier"
      ]
    },
    {
      "cell_type": "markdown",
      "metadata": {
        "id": "WN_YZqG-bQHb"
      },
      "source": [
        "Use the KNeighborClassifier from sklearn using the following setting:\n",
        "`n_neighbors=7, p=2, weights='uniform', algorithm=\"kd_tree\"`"
      ]
    },
    {
      "cell_type": "code",
      "execution_count": null,
      "metadata": {
        "id": "4rLsdM44ZZYS"
      },
      "outputs": [],
      "source": [
        "# KNeighborClassifier\n",
        "\n",
        "# TODO: Your code here"
      ]
    },
    {
      "cell_type": "markdown",
      "metadata": {
        "id": "WYk2lZawbcd-"
      },
      "source": [
        "Use `GridSearchCV` to find the best hyper-parameters for your KNN model. Use values between 1 and 10 for `n_neighbors` argument and use either 'uniform' or 'distance' for the `weights` argument. Use a 5-fold cross validation. This translate to the following values for the arguments of the `GridSearchCV`:\n",
        "```\n",
        "param_grid={\"n_neighbors\": range(1, 11), \"weights\":[\"uniform\", \"distance\"]}, cv=5\n",
        "```"
      ]
    },
    {
      "cell_type": "code",
      "execution_count": null,
      "metadata": {
        "id": "FNCfOnC7ZZYS"
      },
      "outputs": [],
      "source": [
        "# Question 19: Find the accuracy of the best KNN model\n",
        "\n",
        "# TODO: Your code here"
      ]
    },
    {
      "cell_type": "code",
      "execution_count": null,
      "metadata": {
        "id": "LXxNNB8D1dRN"
      },
      "outputs": [],
      "source": [
        "# Question 20: Find the 'n_neighbors' and 'weights' values for the best KNN model\n",
        "\n",
        "# TODO: Your code here"
      ]
    },
    {
      "cell_type": "markdown",
      "metadata": {
        "id": "qCOwJWA2ZZYS"
      },
      "source": [
        "## Exercise 4: Decision Tree"
      ]
    },
    {
      "cell_type": "markdown",
      "metadata": {
        "id": "g633fLfGcpze"
      },
      "source": [
        "Train a Decision Tree classifier on the training data. Use the following values for the arguments of the decision tree:\n",
        "```\n",
        "criterion=\"gini\", max_depth=3, random_state=30\n",
        "```"
      ]
    },
    {
      "cell_type": "code",
      "execution_count": null,
      "metadata": {
        "id": "Pdm9MBY0ZZYS"
      },
      "outputs": [],
      "source": [
        "# Decision Tree\n",
        "\n",
        "# TODO: Your code here"
      ]
    },
    {
      "cell_type": "markdown",
      "metadata": {
        "id": "fwZfFUKRZZYS"
      },
      "source": [
        "Use `GridSearchCV` to find the best hyper-parameters for your decision tree model. Use values between 1 and 7 for `max_depth` argument and use either 'gini' or 'entropy' for the `criterion` argument. Use a 5-fold cross validation. This translate to the following values for the arguments of the `GridSearchCV`:\n",
        "```\n",
        "param_grid={\"max_depth\": range(1, 8), \"criterion\":[\"gini\", \"entropy\"]}, cv=5\n",
        "```"
      ]
    },
    {
      "cell_type": "code",
      "execution_count": null,
      "metadata": {
        "id": "L9PMYnAzZZYS"
      },
      "outputs": [],
      "source": [
        "# Question 21: Find the accuracy of the best decision tree model\n",
        "\n",
        "# TODO: Your code here"
      ]
    },
    {
      "cell_type": "code",
      "execution_count": null,
      "metadata": {
        "id": "mzv6LpnLZZYn"
      },
      "outputs": [],
      "source": [
        "# Question 22: Find the 'criterion' and 'max_depth' values for the best decision tree model\n",
        "\n",
        "# TODO: Your code here"
      ]
    },
    {
      "cell_type": "markdown",
      "metadata": {
        "id": "pfT4Z_R8a_h0"
      },
      "source": [
        "The company places a strong emphasis on keeping its customers and has solid resources dedicated to retention. In such a case, choosing the right evaluation metric becomes crucial. The answer lies in understanding what matters most in this context.\n"
      ]
    },
    {
      "cell_type": "markdown",
      "metadata": {
        "id": "8dcAiY9-fPxi"
      },
      "source": [
        "Question 23: Find the best metric for the company\n",
        "\n",
        "> TODO: Your answer here"
      ]
    },
    {
      "cell_type": "code",
      "execution_count": null,
      "metadata": {
        "id": "n2ADWjoMyiII"
      },
      "outputs": [],
      "source": [
        "# Question 24: Find the model that gives the best result using the metric above\n",
        "\n",
        "# TODO: Your code here"
      ]
    }
  ],
  "metadata": {
    "colab": {
      "provenance": []
    },
    "kernelspec": {
      "display_name": "base",
      "language": "python",
      "name": "python3"
    },
    "language_info": {
      "codemirror_mode": {
        "name": "ipython",
        "version": 3
      },
      "file_extension": ".py",
      "mimetype": "text/x-python",
      "name": "python",
      "nbconvert_exporter": "python",
      "pygments_lexer": "ipython3",
      "version": "3.11.5"
    }
  },
  "nbformat": 4,
  "nbformat_minor": 0
}