{
  "cells": [
    {
      "cell_type": "markdown",
      "metadata": {
        "id": "N_tTOi4xBexn"
      },
      "source": [
        "<a href=\"https://colab.research.google.com/github/michalis0/Business-Intelligence-and-Analytics/blob/master/labs/03%20-%20Pandas%20and%20Python/exercises/exercise_01.ipynb\" target=\"_parent\"><img src=\"https://colab.research.google.com/assets/colab-badge.svg\" alt=\"Open In Colab\"/></a>"
      ]
    },
    {
      "cell_type": "markdown",
      "metadata": {
        "id": "KpEcKi0RYt2G"
      },
      "source": [
        "# Part 1"
      ]
    },
    {
      "cell_type": "code",
      "execution_count": null,
      "metadata": {
        "id": "guBmIG4HYt2H"
      },
      "outputs": [],
      "source": [
        "import pandas as pd"
      ]
    },
    {
      "cell_type": "markdown",
      "metadata": {
        "id": "NQsFikj3Yt2H"
      },
      "source": [
        "## Question 1"
      ]
    },
    {
      "cell_type": "markdown",
      "metadata": {
        "id": "vzmBj-c5Yt2I"
      },
      "source": [
        " test In the API walkthrough, we show you how to retrieve data from a website by making a request. For this exercise, we've already crawled the data and combined it into a dataset that includes a list of movies along with their IMDB ratings and other metadata.\n",
        "\n",
        "You can load the data from the this URL: \"https://media.githubusercontent.com/media/michalis0/Business-Intelligence-and-Analytics/refs/heads/master/data/imdb_movies.csv\""
      ]
    },
    {
      "cell_type": "code",
      "execution_count": null,
      "metadata": {
        "id": "MU3QlEMtYt2I"
      },
      "outputs": [],
      "source": [
        "df_movies = '''YOUR CODE HERE'''"
      ]
    },
    {
      "cell_type": "markdown",
      "metadata": {
        "id": "IuVnWtjpYt2I"
      },
      "source": [
        "## Question 2"
      ]
    },
    {
      "cell_type": "markdown",
      "metadata": {
        "id": "94D-AoG7Yt2I"
      },
      "source": [
        "Check the data by using the following functions:\n",
        "* `.head(n)`(print the first n rows, `head()` by default returns the first 5 rows)\n",
        "* `.tail(n)` (print the last n rows, `.tail()` by default returns the last 5 rows)\n",
        "* `.columns` (column names)\n",
        "* `.index` (raw identifier)\n",
        "* `.dtypes` (column types)"
      ]
    },
    {
      "cell_type": "code",
      "execution_count": null,
      "metadata": {
        "id": "FL70Lv5pYt2I"
      },
      "outputs": [],
      "source": [
        "# Beginning of the list\n",
        "'''YOUR CODE HERE'''"
      ]
    },
    {
      "cell_type": "code",
      "execution_count": null,
      "metadata": {
        "id": "-rHgIEBRYt2J"
      },
      "outputs": [],
      "source": [
        "# End of the list\n",
        "'''YOUR CODE HERE'''"
      ]
    },
    {
      "cell_type": "code",
      "execution_count": null,
      "metadata": {
        "id": "MP-h-dpPYt2J"
      },
      "outputs": [],
      "source": [
        "# Column names\n",
        "'''YOUR CODE HERE'''"
      ]
    },
    {
      "cell_type": "code",
      "execution_count": null,
      "metadata": {
        "id": "y38AamnYYt2K"
      },
      "outputs": [],
      "source": [
        "# Raw identifier\n",
        "'''YOUR CODE HERE'''"
      ]
    },
    {
      "cell_type": "code",
      "execution_count": null,
      "metadata": {
        "id": "BGBG12Z9Yt2K"
      },
      "outputs": [],
      "source": [
        "# Column types\n",
        "'''YOUR CODE HERE'''"
      ]
    },
    {
      "cell_type": "markdown",
      "metadata": {
        "id": "nDLUEHGCYt2K"
      },
      "source": [
        "## Question 3"
      ]
    },
    {
      "cell_type": "markdown",
      "metadata": {
        "id": "3A0la5-kYt2K"
      },
      "source": [
        "Remember that each column/attribute of our data may have different attribute types. Have a look at the following table to recall the different DataTypes in Pandas and Python (it is the same as in the walkthrough).\n",
        "\n",
        "| Pandas dtype  | Python type  | NumPy type|Usage\n",
        "| :--- | :--- | :--- | :--- |\n",
        "| object| str or mixed | string_, unicode_, mixed types| Text or mixed numeric and non_numeric values |\n",
        "| int 64| int| int_, int8, int16, int32, int64, uint8, uint18, uint32, uint64 | Integer numbers i.e. [1,2,3,...] |\n",
        "| float64| float| float_, float15, float32, float64 | Floating point numbers (They contain decimal points) |\n",
        "| bool| bool|bool_| True/False values|\n",
        "| datetime64 | NA | datetime64[ns]     | Date and time values  |\n",
        "| timedelta[ns] | NA  | NA| Differences between two datetime|\n",
        "| category | NA| NA| Finite list of text values|\n",
        "\n",
        "Use the following cells to convert each column to the required dtype:"
      ]
    },
    {
      "cell_type": "code",
      "execution_count": null,
      "metadata": {
        "id": "Q3r1E1PQYt2K"
      },
      "outputs": [],
      "source": [
        "# Convert MPA to category\n",
        "'''YOUR CODE HERE'''"
      ]
    },
    {
      "cell_type": "code",
      "execution_count": null,
      "metadata": {
        "id": "WSoGkn-5Yt2K"
      },
      "outputs": [],
      "source": [
        "# Convert Rating to numeric\n",
        "'''YOUR CODE HERE'''"
      ]
    },
    {
      "cell_type": "markdown",
      "metadata": {
        "id": "7YqEHktUYt2K"
      },
      "source": [
        "Now lets have a look at the new column types:"
      ]
    },
    {
      "cell_type": "code",
      "execution_count": null,
      "metadata": {
        "id": "1BnXXaJ5Yt2L"
      },
      "outputs": [],
      "source": [
        "# New column types\n",
        "'''YOUR CODE HERE'''"
      ]
    },
    {
      "cell_type": "markdown",
      "metadata": {
        "id": "3IpQcdDtYt2L"
      },
      "source": [
        "# Part 2"
      ]
    },
    {
      "cell_type": "markdown",
      "metadata": {
        "id": "5wTylbTjYt2L"
      },
      "source": [
        "## Question 4\n",
        "The dataset contains some null values. Count the number of null values in each column using `.isnull().sum()`.\n",
        "\n",
        "Then, remove all rows that contain **at least** one null value using `.dropna()`.\n",
        "\n",
        "Print the shape of the dataframe before and after the cleaning process using `.shape`. How many rows were deleted?\n",
        "\n",
        "\n",
        "#### Key Parameters for `.dropna()`:\n",
        "\n",
        "- **axis**:\n",
        "  - `0` (default) → Drops rows with NaN values.\n",
        "  - `1` → Drops columns with NaN values.\n",
        "\n",
        "- **how**:\n",
        "  - `\"any\"` (default) → Drops a row if **any** value in the row is NaN.\n",
        "  - `\"all\"` → Drops a row only if **all** values in the row are NaN.\n",
        "\n",
        "- **inplace**:\n",
        "  - `False` (default) → Returns a new DataFrame with NaN rows removed.\n",
        "  - `True` → Modifies the original DataFrame in place.\n",
        "\n",
        "**Solution:**"
      ]
    },
    {
      "cell_type": "code",
      "execution_count": null,
      "metadata": {
        "id": "0qvIioJdztuK"
      },
      "outputs": [],
      "source": [
        "# Original shape\n",
        "'''YOUR CODE HERE'''"
      ]
    },
    {
      "cell_type": "code",
      "execution_count": null,
      "metadata": {
        "id": "Ftmp6EKMYt2L"
      },
      "outputs": [],
      "source": [
        "# Get the original number of rows\n",
        "'''YOUR CODE HERE'''"
      ]
    },
    {
      "cell_type": "code",
      "execution_count": null,
      "metadata": {
        "id": "1sVGpnxnYt2L"
      },
      "outputs": [],
      "source": [
        "# Count the number of null values in each column\n",
        "'''YOUR CODE HERE'''"
      ]
    },
    {
      "cell_type": "code",
      "execution_count": null,
      "metadata": {
        "id": "FrKy1IU3Yt2L"
      },
      "outputs": [],
      "source": [
        "# Drop rows with null values\n",
        "'''YOUR CODE HERE'''"
      ]
    },
    {
      "cell_type": "code",
      "execution_count": null,
      "metadata": {
        "id": "HmVbVOcQ0Ni1"
      },
      "outputs": [],
      "source": [
        "# Print shape of data after dropping null values\n",
        "'''YOUR CODE HERE'''"
      ]
    },
    {
      "cell_type": "code",
      "execution_count": null,
      "metadata": {
        "id": "EuK21hgPYt2L"
      },
      "outputs": [],
      "source": [
        "# Check the number of rows after dropping\n",
        "'''YOUR CODE HERE'''"
      ]
    },
    {
      "cell_type": "markdown",
      "metadata": {
        "id": "iE5O46cb5m49"
      },
      "source": [
        "<h2>Important: This question answers the Moodle quiz question 1. </h2>"
      ]
    },
    {
      "cell_type": "code",
      "execution_count": null,
      "metadata": {
        "id": "ZvFXulnSYt2L"
      },
      "outputs": [],
      "source": [
        "# Print number of deleted rows\n",
        "'''YOUR CODE HERE'''"
      ]
    },
    {
      "cell_type": "markdown",
      "metadata": {
        "id": "UG6qWHJ2Yt2L"
      },
      "source": [
        "## Question 5"
      ]
    },
    {
      "cell_type": "markdown",
      "metadata": {
        "id": "Xi-41jOIYt2L"
      },
      "source": [
        "We will now apply some selections/filters on the dataframe to get some insights:\n",
        "- Display the statistics of the ratings (hint: use `describe()`).\n",
        "- Find the average rating of movies per year (hint: use `groupby()` and `mean()`).\n",
        "- Print the top 10 movies with highest ratings in 2024 (hint: filter movies that released in 2024 and use `sort_values()`).\n",
        "- [Optional] Find the average rating of action movies per year (hint: filter movies that contain 'Action' in their Genres, use `groupby()` and `mean()`).\n",
        "\n",
        "**Solution**:"
      ]
    },
    {
      "cell_type": "code",
      "execution_count": null,
      "metadata": {
        "id": "2u7JysoLLsr8"
      },
      "outputs": [],
      "source": [
        "# Display the statistics of the ratings\n",
        "'''YOUR CODE HERE'''"
      ]
    },
    {
      "cell_type": "code",
      "execution_count": null,
      "metadata": {
        "id": "M0wZujWAYt2L"
      },
      "outputs": [],
      "source": [
        "# Average rating per year\n",
        "'''YOUR CODE HERE'''"
      ]
    },
    {
      "cell_type": "markdown",
      "metadata": {
        "id": "ZjkU1TXt5baE"
      },
      "source": [
        "<h2> Important: This question answers the Moodle quiz question 2. <h2>\n"
      ]
    },
    {
      "cell_type": "code",
      "execution_count": null,
      "metadata": {
        "id": "dxMdoev9Yt2M"
      },
      "outputs": [],
      "source": [
        "# Top 10 movies with the highest rating in 2024\n",
        "'''YOUR CODE HERE'''"
      ]
    },
    {
      "cell_type": "code",
      "execution_count": null,
      "metadata": {
        "id": "iVODtoWK0hiD"
      },
      "outputs": [],
      "source": [
        "# Average rating of action movies per year\n",
        "# Filter movies which Genres list contains 'Action'\n",
        "'''YOUR CODE HERE'''\n",
        "\n",
        "# Group by year and calculate the average rating\n",
        "'''YOUR CODE HERE'''"
      ]
    }
  ],
  "metadata": {
    "colab": {
      "provenance": []
    },
    "kernelspec": {
      "display_name": "Python 3",
      "language": "python",
      "name": "python3"
    },
    "language_info": {
      "codemirror_mode": {
        "name": "ipython",
        "version": 3
      },
      "file_extension": ".py",
      "mimetype": "text/x-python",
      "name": "python",
      "nbconvert_exporter": "python",
      "pygments_lexer": "ipython3",
      "version": "3.13.2"
    }
  },
  "nbformat": 4,
  "nbformat_minor": 0
}